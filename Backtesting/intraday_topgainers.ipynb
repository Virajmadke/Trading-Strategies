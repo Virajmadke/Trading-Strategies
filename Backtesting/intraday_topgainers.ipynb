{
 "cells": [
  {
   "cell_type": "code",
   "execution_count": 1,
   "metadata": {},
   "outputs": [],
   "source": [
    "import pandas as pd\n",
    "import numpy as np\n",
    "import ta\n",
    "from ta.momentum import RSIIndicator\n",
    "from ta.volume import VolumeWeightedAveragePrice\n",
    "from ta.trend import EMAIndicator\n",
    "from ta.trend import SMAIndicator\n",
    "from ta.volatility import BollingerBands\n",
    "import time\n",
    "import datetime as dt\n",
    "from datetime import date\n",
    "from datetime import timedelta\n",
    "import math\n",
    "import os"
   ]
  },
  {
   "cell_type": "code",
   "execution_count": 2,
   "metadata": {},
   "outputs": [],
   "source": [
    "from kiteconnect import KiteConnect\n",
    "from selenium import webdriver"
   ]
  },
  {
   "cell_type": "code",
   "execution_count": 3,
   "metadata": {},
   "outputs": [],
   "source": [
    "cwd = os.chdir(\"C:\\\\Users\\\\Nikhil\\\\Desktop\\\\Swarnim assignment\")"
   ]
  },
  {
   "cell_type": "code",
   "execution_count": 4,
   "metadata": {},
   "outputs": [],
   "source": [
    "def autologin():\n",
    "    token_path = \"cred.txt\"\n",
    "    key_secret = open(token_path,'r').read().split()\n",
    "    kite = KiteConnect(api_key=key_secret[0])\n",
    "    service = webdriver.chrome.service.Service('./chromedriver')\n",
    "    service.start()\n",
    "    options = webdriver.ChromeOptions()\n",
    "    options.add_argument('incognito')\n",
    "    options.add_argument('--headless')\n",
    "    options = options.to_capabilities()\n",
    "    driver = webdriver.Remote(service.service_url, options)\n",
    "    driver.get(kite.login_url())\n",
    "    driver.implicitly_wait(10)\n",
    "    username = driver.find_element_by_xpath('/html/body/div[1]/div/div[2]/div[1]/div/div/div[2]/form/div[1]/input')\n",
    "    password = driver.find_element_by_xpath('/html/body/div[1]/div/div[2]/div[1]/div/div/div[2]/form/div[2]/input')\n",
    "    username.send_keys(key_secret[2])\n",
    "    password.send_keys(key_secret[3])\n",
    "    driver.find_element_by_xpath('/html/body/div[1]/div/div[2]/div[1]/div/div/div[2]/form/div[4]/button').click()\n",
    "    pin = driver.find_element_by_xpath('/html/body/div[1]/div/div[2]/div[1]/div/div/div[2]/form/div[2]/div/input')\n",
    "    pin.send_keys(key_secret[4])\n",
    "    driver.find_element_by_xpath('/html/body/div[1]/div/div[2]/div[1]/div/div/div[2]/form/div[3]/button').click()\n",
    "    time.sleep(10)\n",
    "    request_token=driver.current_url.split(\"request_token=\")[1].split(\"&action\")[0]\n",
    "    with open('request_token.txt', 'w') as the_file:\n",
    "        the_file.write(request_token)\n",
    "    driver.quit()\n",
    "\n",
    "autologin()\n",
    "\n",
    "#generating and storing access token - valid till 6 am the next day\n",
    "request_token = open(\"request_token.txt\",'r').read()\n",
    "key_secret = open(\"cred.txt\",'r').read().split()\n",
    "kite = KiteConnect(api_key=key_secret[0])\n",
    "data = kite.generate_session(request_token, api_secret=key_secret[1])\n",
    "with open('access_token.txt', 'w') as file:\n",
    "        file.write(data[\"access_token\"])"
   ]
  },
  {
   "cell_type": "code",
   "execution_count": 5,
   "metadata": {},
   "outputs": [],
   "source": [
    "access_token = open(\"access_token.txt\",'r').read()\n",
    "key_secret = open(\"cred.txt\",'r').read().split()\n",
    "kite = KiteConnect(api_key=key_secret[0])\n",
    "kite.set_access_token(access_token)"
   ]
  },
  {
   "cell_type": "code",
   "execution_count": 7,
   "metadata": {},
   "outputs": [],
   "source": [
    "instrument_dump = kite.instruments(\"NFO\")\n",
    "instrument_df = pd.DataFrame(instrument_dump)"
   ]
  },
  {
   "cell_type": "code",
   "execution_count": 8,
   "metadata": {},
   "outputs": [],
   "source": [
    "equity_dump = kite.instruments(\"NSE\")\n",
    "equity_df  = pd.DataFrame(equity_dump)"
   ]
  },
  {
   "cell_type": "code",
   "execution_count": 9,
   "metadata": {},
   "outputs": [],
   "source": [
    "def instrumentLookup(instrument_df,symbol):\n",
    "    \"\"\"Looks up instrument token for a given script from instrument dump\"\"\"\n",
    "    try:\n",
    "        return instrument_df[instrument_df.tradingsymbol==symbol].instrument_token.values[0]\n",
    "    except:\n",
    "        return -1\n",
    "\n",
    "\n",
    "def fetchOHLC(ticker,interval,duration):\n",
    "    \"\"\"extracts historical data and outputs in the form of dataframe\"\"\"\n",
    "    instrument = instrumentLookup(instrument_df,ticker)\n",
    "    data = pd.DataFrame(kite.historical_data(instrument,dt.date.today()-dt.timedelta(duration), dt.date.today(),interval, oi=True))\n",
    "    #data.set_index(\"date\",inplace=True)\n",
    "    return data"
   ]
  },
  {
   "cell_type": "code",
   "execution_count": 10,
   "metadata": {},
   "outputs": [],
   "source": [
    "def EqLookup(instrument_df,symbol):\n",
    "    \"\"\"Looks up instrument token for a given script from instrument dump\"\"\"\n",
    "    try:\n",
    "        return equity_df[equity_df.tradingsymbol==symbol].instrument_token.values[0]\n",
    "    except:\n",
    "        return -1\n",
    "\n",
    "\n",
    "def fetchEqOHLC(ticker,interval,duration):\n",
    "    \"\"\"extracts historical data and outputs in the form of dataframe\"\"\"\n",
    "    instrument = EqLookup(equity_df,ticker)\n",
    "    data = pd.DataFrame(kite.historical_data(instrument,dt.date.today()-dt.timedelta(duration), dt.date.today(),interval, oi=True))\n",
    "    return data"
   ]
  },
  {
   "cell_type": "code",
   "execution_count": 11,
   "metadata": {},
   "outputs": [],
   "source": [
    "def add_indicator(Data):\n",
    "    EMA20  = EMAIndicator(close = Data[\"close\"], window = 20, fillna = True)\n",
    "    EMA8  = EMAIndicator(close = Data[\"close\"], window = 8, fillna = True)\n",
    "    SMA4Volume = SMAIndicator(close= Data[\"volume\"], window=4, fillna= True)\n",
    "    SMA20Volume = SMAIndicator(close= Data[\"volume\"], window=20, fillna= True)\n",
    "    RSI = RSIIndicator(close= Data[\"close\"], window=14, fillna= True)\n",
    "    VWAP = VolumeWeightedAveragePrice(Data['high'], Data['low'], Data['close'], Data['volume'], 14, True)\n",
    "    \n",
    "    \n",
    "    Data['RSI']= RSI.rsi()\n",
    "    Data['EMA8']= EMA8.ema_indicator()\n",
    "    Data['EMA20']= EMA20.ema_indicator()\n",
    "    Data['SMA4Volume']= SMA4Volume.sma_indicator()\n",
    "    Data['SMA20Volume']= SMA20Volume.sma_indicator()\n",
    "    \n",
    "    Data['Vwap']=VWAP.volume_weighted_average_price()\n",
    "    \n",
    "    return Data\n",
    "    "
   ]
  },
  {
   "cell_type": "code",
   "execution_count": 12,
   "metadata": {},
   "outputs": [],
   "source": [
    "df=pd.read_excel('fno_stocks.xlsx', header= 1)\n",
    "Tickers = df[\"Symbol\"]\n",
    "Tickers = Tickers.astype(str)"
   ]
  },
  {
   "cell_type": "code",
   "execution_count": 22,
   "metadata": {},
   "outputs": [],
   "source": [
    "log = pd.DataFrame(columns= [\"Ticker\", \"per_change\"])\n",
    "\n",
    "for i in Tickers:\n",
    "    if(i== 'NIFTY'or i=='BANKNIFTY'):\n",
    "        continue\n",
    "    daily_data=fetchEqOHLC(i,'day',5)\n",
    "    data=fetchEqOHLC(i,'15minute',1)\n",
    "    per_change=((data['close'][daily_data.shape[0]-1]-daily_data['close'][daily_data.shape[0]-2])/daily_data['close'][daily_data.shape[0]-2])\n",
    "    new_row = {\"Ticker\":i, \"per_change\": per_change}\n",
    "    log = log.append(new_row, ignore_index = True)"
   ]
  },
  {
   "cell_type": "code",
   "execution_count": 23,
   "metadata": {},
   "outputs": [],
   "source": [
    "log.sort_values(by=['per_change'],ascending=False,inplace=True)"
   ]
  },
  {
   "cell_type": "code",
   "execution_count": 24,
   "metadata": {},
   "outputs": [
    {
     "data": {
      "text/html": [
       "<div>\n",
       "<style scoped>\n",
       "    .dataframe tbody tr th:only-of-type {\n",
       "        vertical-align: middle;\n",
       "    }\n",
       "\n",
       "    .dataframe tbody tr th {\n",
       "        vertical-align: top;\n",
       "    }\n",
       "\n",
       "    .dataframe thead th {\n",
       "        text-align: right;\n",
       "    }\n",
       "</style>\n",
       "<table border=\"1\" class=\"dataframe\">\n",
       "  <thead>\n",
       "    <tr style=\"text-align: right;\">\n",
       "      <th></th>\n",
       "      <th>Ticker</th>\n",
       "      <th>per_change</th>\n",
       "    </tr>\n",
       "  </thead>\n",
       "  <tbody>\n",
       "    <tr>\n",
       "      <th>154</th>\n",
       "      <td>POLYCAB</td>\n",
       "      <td>0.031061</td>\n",
       "    </tr>\n",
       "    <tr>\n",
       "      <th>135</th>\n",
       "      <td>IPCALAB</td>\n",
       "      <td>0.027684</td>\n",
       "    </tr>\n",
       "    <tr>\n",
       "      <th>61</th>\n",
       "      <td>MINDTREE</td>\n",
       "      <td>0.022073</td>\n",
       "    </tr>\n",
       "    <tr>\n",
       "      <th>120</th>\n",
       "      <td>COALINDIA</td>\n",
       "      <td>0.020518</td>\n",
       "    </tr>\n",
       "    <tr>\n",
       "      <th>97</th>\n",
       "      <td>IRCTC</td>\n",
       "      <td>0.018816</td>\n",
       "    </tr>\n",
       "    <tr>\n",
       "      <th>134</th>\n",
       "      <td>LTTS</td>\n",
       "      <td>0.018724</td>\n",
       "    </tr>\n",
       "    <tr>\n",
       "      <th>19</th>\n",
       "      <td>NATIONALUM</td>\n",
       "      <td>0.017356</td>\n",
       "    </tr>\n",
       "    <tr>\n",
       "      <th>99</th>\n",
       "      <td>ABFRL</td>\n",
       "      <td>0.016791</td>\n",
       "    </tr>\n",
       "    <tr>\n",
       "      <th>20</th>\n",
       "      <td>HINDALCO</td>\n",
       "      <td>0.014777</td>\n",
       "    </tr>\n",
       "    <tr>\n",
       "      <th>167</th>\n",
       "      <td>APOLLOHOSP</td>\n",
       "      <td>0.014535</td>\n",
       "    </tr>\n",
       "  </tbody>\n",
       "</table>\n",
       "</div>"
      ],
      "text/plain": [
       "         Ticker  per_change\n",
       "154     POLYCAB    0.031061\n",
       "135     IPCALAB    0.027684\n",
       "61     MINDTREE    0.022073\n",
       "120   COALINDIA    0.020518\n",
       "97        IRCTC    0.018816\n",
       "134        LTTS    0.018724\n",
       "19   NATIONALUM    0.017356\n",
       "99        ABFRL    0.016791\n",
       "20     HINDALCO    0.014777\n",
       "167  APOLLOHOSP    0.014535"
      ]
     },
     "execution_count": 24,
     "metadata": {},
     "output_type": "execute_result"
    }
   ],
   "source": [
    "log.head(10)"
   ]
  },
  {
   "cell_type": "code",
   "execution_count": 25,
   "metadata": {},
   "outputs": [],
   "source": [
    "# If you want to remove condition write true inside -- if(True)\n",
    "def check_intraday_long_conditions(Data,j,Data3):\n",
    "    if((Data3['close'][j]-Data['close'][j] > 0.0025*Data['close'][j] or Data['close'][j]-Data['open'][j]>0.0025*Data['close'][j]) and Data['close'][j-1]-Data['open'][j-1] < 0.00125*Data['close'][j-1] ):\n",
    "        if((Data3['volume'][j]>Data['SMA4Volume'][j] or Data['volume'][j]>Data['SMA4Volume'][j]) and Data['close'][j]> Data['EMA20'][j] and Data['close'][j-2]-Data['open'][j-2] < 0.00125*Data['close'][j-2]):\n",
    "            if(Data['SMA4Volume'][j-1]< Data['SMA20Volume'][j-1]):\n",
    "                return True\n",
    "                        \n",
    "    return False"
   ]
  },
  {
   "cell_type": "code",
   "execution_count": 26,
   "metadata": {},
   "outputs": [
    {
     "name": "stdout",
     "output_type": "stream",
     "text": [
      "POLYCAB   12:54:04.170108\n",
      "IPCALAB   12:54:05.010632\n",
      "POLYCAB   12:54:37.470424\n",
      "IPCALAB   12:54:37.990828\n",
      "IPCALAB   12:55:45.150746\n",
      "IPCALAB   12:56:18.467380\n",
      "IPCALAB   12:56:51.460181\n",
      "IPCALAB   12:57:25.030414\n",
      "IPCALAB   12:57:58.405661\n"
     ]
    },
    {
     "ename": "KeyboardInterrupt",
     "evalue": "",
     "output_type": "error",
     "traceback": [
      "\u001b[1;31m---------------------------------------------------------------------------\u001b[0m",
      "\u001b[1;31mKeyboardInterrupt\u001b[0m                         Traceback (most recent call last)",
      "\u001b[1;32m<ipython-input-26-52a2ad772a86>\u001b[0m in \u001b[0;36m<module>\u001b[1;34m\u001b[0m\n\u001b[0;32m      9\u001b[0m \u001b[1;33m\u001b[0m\u001b[0m\n\u001b[0;32m     10\u001b[0m             \u001b[0mflag\u001b[0m\u001b[1;33m=\u001b[0m\u001b[0mflag\u001b[0m\u001b[1;33m+\u001b[0m\u001b[1;36m1\u001b[0m\u001b[1;33m\u001b[0m\u001b[1;33m\u001b[0m\u001b[0m\n\u001b[1;32m---> 11\u001b[1;33m     \u001b[0mtime\u001b[0m\u001b[1;33m.\u001b[0m\u001b[0msleep\u001b[0m\u001b[1;33m(\u001b[0m\u001b[1;36m30\u001b[0m\u001b[1;33m)\u001b[0m\u001b[1;33m\u001b[0m\u001b[1;33m\u001b[0m\u001b[0m\n\u001b[0m",
      "\u001b[1;31mKeyboardInterrupt\u001b[0m: "
     ]
    }
   ],
   "source": [
    "while(True):\n",
    "    flag=0\n",
    "    for i in log['Ticker'][:5]:\n",
    "        data=fetchEqOHLC(i,'5minute',2)\n",
    "        data3=fetchEqOHLC(i,'3minute',2)\n",
    "        data=add_indicator(data)\n",
    "        if(check_intraday_long_conditions(data,data.shape[0]-1,data3)==True):\n",
    "            print(str(i)+ '   '+ str(dt.datetime.now().time()))\n",
    "            \n",
    "            flag=flag+1\n",
    "    time.sleep(30) "
   ]
  },
  {
   "cell_type": "code",
   "execution_count": null,
   "metadata": {},
   "outputs": [],
   "source": []
  },
  {
   "cell_type": "code",
   "execution_count": null,
   "metadata": {},
   "outputs": [],
   "source": []
  }
 ],
 "metadata": {
  "kernelspec": {
   "display_name": "Python 3",
   "language": "python",
   "name": "python3"
  },
  "language_info": {
   "codemirror_mode": {
    "name": "ipython",
    "version": 3
   },
   "file_extension": ".py",
   "mimetype": "text/x-python",
   "name": "python",
   "nbconvert_exporter": "python",
   "pygments_lexer": "ipython3",
   "version": "3.8.8"
  }
 },
 "nbformat": 4,
 "nbformat_minor": 4
}

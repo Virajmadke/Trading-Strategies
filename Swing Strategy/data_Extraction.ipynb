{
 "cells": [
  {
   "cell_type": "code",
   "execution_count": 1,
   "metadata": {},
   "outputs": [
    {
     "output_type": "stream",
     "name": "stdout",
     "text": [
      "NIFTY SMLCAP 100\n",
      "NIFTY SMLCAP 250\n",
      "NIFTY SMLCAP 50\n",
      "NIFTY MIDCAP 150\n",
      "NIFTY 50\n",
      "NIFTY NEXT 50\n",
      "NIFTY FMCG\n",
      "BERGEPAINT\n",
      "BHARATFORG\n",
      "BHEL\n",
      "BOSCHLTD\n",
      "BPCL\n",
      "CHOLAFIN\n",
      "CADILAHC\n",
      "ADANIENT\n",
      "COALINDIA\n",
      "CUMMINSIND\n",
      "DIVISLAB\n",
      "EICHERMOT\n",
      "ESCORTS\n",
      "CIPLA\n",
      "GAIL\n",
      "GLENMARK\n",
      "GODREJCP\n",
      "DABUR\n",
      "GODREJPROP\n",
      "GRASIM\n",
      "ADANIPORTS\n",
      "HAVELLS\n",
      "ASIANPAINT\n",
      "BANDHANBNK\n",
      "AXISBANK\n",
      "HDFC\n",
      "HDFCBANK\n"
     ]
    }
   ],
   "source": [
    "import pandas as pd\n",
    "#!pip install nsepy\n",
    "from nsepy import get_history\n",
    "from datetime import date\n",
    "\n",
    "\n"
   ]
  },
  {
   "cell_type": "code",
   "execution_count": null,
   "metadata": {},
   "outputs": [],
   "source": [
    "# Extract Index Data\n",
    "symbol = ['NIFTY SMLCAP 100','NIFTY SMLCAP 250','NIFTY SMLCAP 50','NIFTY MIDCAP 150','NIFTY 50','NIFTY NEXT 50','NIFTY FMCG']\n",
    "\n",
    "data1=[]\n",
    "data1 = pd.DataFrame(data1)\n",
    "for x in symbol:\n",
    "    data = get_history(symbol=x, start=date(2019,1,1), end=date(2020,12,31), index = True)\n",
    "    data = pd.DataFrame(data)\n",
    "    data['Index_Name'] = x\n",
    "    data1 = pd.concat([data1,data])\n",
    "    print(x)\n",
    "\n",
    "# Save Index Data\n",
    "data1.to_csv('Index_Data_2020.csv', index=True)\n",
    "\n",
    "# Extract Company Data\n",
    "symbol =  ['BERGEPAINT','BHARATFORG','BHEL','BOSCHLTD','BPCL','CHOLAFIN','CADILAHC','ADANIENT','COALINDIA','CUMMINSIND','DIVISLAB','EICHERMOT','ESCORTS','CIPLA','GAIL','GLENMARK','GODREJCP','DABUR','GODREJPROP','GRASIM','ADANIPORTS','HAVELLS','ASIANPAINT','BANDHANBNK','AXISBANK','HDFC','HDFCBANK']\n",
    "\n",
    "\n",
    "counter = 0\n",
    "for x in symbol:\n",
    "    data1=[]\n",
    "    data1 = pd.DataFrame(data1)\n",
    "    name=x+'.csv'\n",
    "    data = get_history(symbol=x, start=date(2015,10,6), end=date(2021,3,26))\n",
    "    data = pd.DataFrame(data)\n",
    "    data1 = pd.concat([data1,data])\n",
    "    print(x)\n",
    "    data1.columns=['Symbol', 'Series', 'Prev Close', 'Open', 'High', 'Low', 'Last',\n",
    "       'Price', 'VWAP', 'Volume', 'Turnover', 'Trades', 'Deliverable Volume',\n",
    "       '%Deliverble']\n",
    "    data1.to_csv(name, index=True)\n",
    "    \n",
    "    \n",
    "# Save Company Data"
   ]
  },
  {
   "cell_type": "code",
   "execution_count": 3,
   "metadata": {},
   "outputs": [
    {
     "output_type": "execute_result",
     "data": {
      "text/plain": [
       "            Date Symbol Series  Prev Close     Open     High      Low  \\\n",
       "0     2015-10-06   HDFC     EQ     1256.95  1268.00  1271.00  1238.35   \n",
       "1     2015-10-07   HDFC     EQ     1265.20  1258.00  1280.00  1258.00   \n",
       "2     2015-10-08   HDFC     EQ     1277.45  1278.50  1279.80  1258.45   \n",
       "3     2015-10-09   HDFC     EQ     1278.10  1286.00  1299.00  1275.40   \n",
       "4     2015-10-12   HDFC     EQ     1291.70  1292.00  1295.35  1261.95   \n",
       "...          ...    ...    ...         ...      ...      ...      ...   \n",
       "1351  2021-03-22   HDFC     EQ     2531.65  2530.10  2547.35  2485.00   \n",
       "1352  2021-03-23   HDFC     EQ     2531.85  2531.00  2541.35  2492.10   \n",
       "1353  2021-03-24   HDFC     EQ     2509.90  2484.85  2503.50  2446.70   \n",
       "1354  2021-03-25   HDFC     EQ     2465.75  2488.00  2491.60  2431.10   \n",
       "1355  2021-03-26   HDFC     EQ     2470.75  2506.75  2548.00  2491.20   \n",
       "\n",
       "         Last    Price     VWAP   Volume      Turnover  Trades  \\\n",
       "0     1261.00  1265.20  1255.26  3144090  3.946639e+14  113277   \n",
       "1     1275.00  1277.45  1271.85  1507689  1.917553e+14   88947   \n",
       "2     1277.00  1278.10  1269.73  1314118  1.668577e+14   46808   \n",
       "3     1283.35  1291.70  1288.67  2002920  2.581111e+14   79897   \n",
       "4     1272.00  1270.25  1273.43  1610929  2.051403e+14   67635   \n",
       "...       ...      ...      ...      ...           ...     ...   \n",
       "1351  2536.20  2531.85  2516.21  3367784  8.474065e+14  118982   \n",
       "1352  2512.30  2509.90  2512.86  3980896  1.000342e+15  170520   \n",
       "1353  2465.00  2465.75  2470.25  3165420  7.819375e+14  146395   \n",
       "1354  2478.00  2470.75  2456.22  4759214  1.168968e+15  196107   \n",
       "1355  2529.00  2532.75  2524.28  3272534  8.260786e+14  144477   \n",
       "\n",
       "      Deliverable Volume  %Deliverble  \n",
       "0                2174239       0.6915  \n",
       "1                 989092       0.6560  \n",
       "2                 788136       0.5997  \n",
       "3                1392008       0.6950  \n",
       "4                 783315       0.4863  \n",
       "...                  ...          ...  \n",
       "1351             1871941       0.5558  \n",
       "1352             2450626       0.6156  \n",
       "1353             1600981       0.5058  \n",
       "1354             2734430       0.5746  \n",
       "1355             1739269       0.5315  \n",
       "\n",
       "[1356 rows x 15 columns]"
      ],
      "text/html": "<div>\n<style scoped>\n    .dataframe tbody tr th:only-of-type {\n        vertical-align: middle;\n    }\n\n    .dataframe tbody tr th {\n        vertical-align: top;\n    }\n\n    .dataframe thead th {\n        text-align: right;\n    }\n</style>\n<table border=\"1\" class=\"dataframe\">\n  <thead>\n    <tr style=\"text-align: right;\">\n      <th></th>\n      <th>Date</th>\n      <th>Symbol</th>\n      <th>Series</th>\n      <th>Prev Close</th>\n      <th>Open</th>\n      <th>High</th>\n      <th>Low</th>\n      <th>Last</th>\n      <th>Price</th>\n      <th>VWAP</th>\n      <th>Volume</th>\n      <th>Turnover</th>\n      <th>Trades</th>\n      <th>Deliverable Volume</th>\n      <th>%Deliverble</th>\n    </tr>\n  </thead>\n  <tbody>\n    <tr>\n      <th>0</th>\n      <td>2015-10-06</td>\n      <td>HDFC</td>\n      <td>EQ</td>\n      <td>1256.95</td>\n      <td>1268.00</td>\n      <td>1271.00</td>\n      <td>1238.35</td>\n      <td>1261.00</td>\n      <td>1265.20</td>\n      <td>1255.26</td>\n      <td>3144090</td>\n      <td>3.946639e+14</td>\n      <td>113277</td>\n      <td>2174239</td>\n      <td>0.6915</td>\n    </tr>\n    <tr>\n      <th>1</th>\n      <td>2015-10-07</td>\n      <td>HDFC</td>\n      <td>EQ</td>\n      <td>1265.20</td>\n      <td>1258.00</td>\n      <td>1280.00</td>\n      <td>1258.00</td>\n      <td>1275.00</td>\n      <td>1277.45</td>\n      <td>1271.85</td>\n      <td>1507689</td>\n      <td>1.917553e+14</td>\n      <td>88947</td>\n      <td>989092</td>\n      <td>0.6560</td>\n    </tr>\n    <tr>\n      <th>2</th>\n      <td>2015-10-08</td>\n      <td>HDFC</td>\n      <td>EQ</td>\n      <td>1277.45</td>\n      <td>1278.50</td>\n      <td>1279.80</td>\n      <td>1258.45</td>\n      <td>1277.00</td>\n      <td>1278.10</td>\n      <td>1269.73</td>\n      <td>1314118</td>\n      <td>1.668577e+14</td>\n      <td>46808</td>\n      <td>788136</td>\n      <td>0.5997</td>\n    </tr>\n    <tr>\n      <th>3</th>\n      <td>2015-10-09</td>\n      <td>HDFC</td>\n      <td>EQ</td>\n      <td>1278.10</td>\n      <td>1286.00</td>\n      <td>1299.00</td>\n      <td>1275.40</td>\n      <td>1283.35</td>\n      <td>1291.70</td>\n      <td>1288.67</td>\n      <td>2002920</td>\n      <td>2.581111e+14</td>\n      <td>79897</td>\n      <td>1392008</td>\n      <td>0.6950</td>\n    </tr>\n    <tr>\n      <th>4</th>\n      <td>2015-10-12</td>\n      <td>HDFC</td>\n      <td>EQ</td>\n      <td>1291.70</td>\n      <td>1292.00</td>\n      <td>1295.35</td>\n      <td>1261.95</td>\n      <td>1272.00</td>\n      <td>1270.25</td>\n      <td>1273.43</td>\n      <td>1610929</td>\n      <td>2.051403e+14</td>\n      <td>67635</td>\n      <td>783315</td>\n      <td>0.4863</td>\n    </tr>\n    <tr>\n      <th>...</th>\n      <td>...</td>\n      <td>...</td>\n      <td>...</td>\n      <td>...</td>\n      <td>...</td>\n      <td>...</td>\n      <td>...</td>\n      <td>...</td>\n      <td>...</td>\n      <td>...</td>\n      <td>...</td>\n      <td>...</td>\n      <td>...</td>\n      <td>...</td>\n      <td>...</td>\n    </tr>\n    <tr>\n      <th>1351</th>\n      <td>2021-03-22</td>\n      <td>HDFC</td>\n      <td>EQ</td>\n      <td>2531.65</td>\n      <td>2530.10</td>\n      <td>2547.35</td>\n      <td>2485.00</td>\n      <td>2536.20</td>\n      <td>2531.85</td>\n      <td>2516.21</td>\n      <td>3367784</td>\n      <td>8.474065e+14</td>\n      <td>118982</td>\n      <td>1871941</td>\n      <td>0.5558</td>\n    </tr>\n    <tr>\n      <th>1352</th>\n      <td>2021-03-23</td>\n      <td>HDFC</td>\n      <td>EQ</td>\n      <td>2531.85</td>\n      <td>2531.00</td>\n      <td>2541.35</td>\n      <td>2492.10</td>\n      <td>2512.30</td>\n      <td>2509.90</td>\n      <td>2512.86</td>\n      <td>3980896</td>\n      <td>1.000342e+15</td>\n      <td>170520</td>\n      <td>2450626</td>\n      <td>0.6156</td>\n    </tr>\n    <tr>\n      <th>1353</th>\n      <td>2021-03-24</td>\n      <td>HDFC</td>\n      <td>EQ</td>\n      <td>2509.90</td>\n      <td>2484.85</td>\n      <td>2503.50</td>\n      <td>2446.70</td>\n      <td>2465.00</td>\n      <td>2465.75</td>\n      <td>2470.25</td>\n      <td>3165420</td>\n      <td>7.819375e+14</td>\n      <td>146395</td>\n      <td>1600981</td>\n      <td>0.5058</td>\n    </tr>\n    <tr>\n      <th>1354</th>\n      <td>2021-03-25</td>\n      <td>HDFC</td>\n      <td>EQ</td>\n      <td>2465.75</td>\n      <td>2488.00</td>\n      <td>2491.60</td>\n      <td>2431.10</td>\n      <td>2478.00</td>\n      <td>2470.75</td>\n      <td>2456.22</td>\n      <td>4759214</td>\n      <td>1.168968e+15</td>\n      <td>196107</td>\n      <td>2734430</td>\n      <td>0.5746</td>\n    </tr>\n    <tr>\n      <th>1355</th>\n      <td>2021-03-26</td>\n      <td>HDFC</td>\n      <td>EQ</td>\n      <td>2470.75</td>\n      <td>2506.75</td>\n      <td>2548.00</td>\n      <td>2491.20</td>\n      <td>2529.00</td>\n      <td>2532.75</td>\n      <td>2524.28</td>\n      <td>3272534</td>\n      <td>8.260786e+14</td>\n      <td>144477</td>\n      <td>1739269</td>\n      <td>0.5315</td>\n    </tr>\n  </tbody>\n</table>\n<p>1356 rows × 15 columns</p>\n</div>"
     },
     "metadata": {},
     "execution_count": 3
    }
   ],
   "source": [
    "df=pd.read_csv('HDFC.csv')\n",
    "df"
   ]
  },
  {
   "cell_type": "code",
   "execution_count": null,
   "metadata": {},
   "outputs": [],
   "source": []
  },
  {
   "cell_type": "code",
   "execution_count": null,
   "metadata": {},
   "outputs": [],
   "source": []
  }
 ],
 "metadata": {
  "kernelspec": {
   "name": "python3",
   "display_name": "Python 3.9.4 64-bit"
  },
  "language_info": {
   "codemirror_mode": {
    "name": "ipython",
    "version": 3
   },
   "file_extension": ".py",
   "mimetype": "text/x-python",
   "name": "python",
   "nbconvert_exporter": "python",
   "pygments_lexer": "ipython3",
   "version": "3.9.4"
  },
  "interpreter": {
   "hash": "427088ba4fc8e4ed47a62b7c8ffefb13c66fa7b319e29f79364d8582b24a7383"
  }
 },
 "nbformat": 4,
 "nbformat_minor": 2
}
{
 "cells": [
  {
   "cell_type": "code",
   "execution_count": 1,
   "metadata": {},
   "outputs": [],
   "source": [
    "import pandas as pd\n",
    "import numpy as np"
   ]
  },
  {
   "cell_type": "code",
   "execution_count": 3,
   "metadata": {},
   "outputs": [],
   "source": [
    "df=pd.read_csv('BHEL.csv', parse_dates=['Date'],index_col='Date')\n"
   ]
  },
  {
   "cell_type": "code",
   "execution_count": 4,
   "metadata": {},
   "outputs": [],
   "source": [
    "df=df.asfreq('W','pad')"
   ]
  },
  {
   "cell_type": "code",
   "execution_count": 5,
   "metadata": {},
   "outputs": [
    {
     "output_type": "execute_result",
     "data": {
      "text/plain": [
       "           Symbol Series  Prev Close    Open    High     Low    Last   Price  \\\n",
       "Date                                                                           \n",
       "2015-10-11   BHEL     EQ      203.80  206.00  206.50  201.20  201.60  201.90   \n",
       "2015-10-18   BHEL     EQ      211.80  212.90  214.00  209.80  213.65  213.50   \n",
       "2015-10-25   BHEL     EQ      208.45  211.00  211.65  208.20  209.50  209.95   \n",
       "2015-11-01   BHEL     EQ      203.25  203.50  204.40  197.80  198.00  198.85   \n",
       "2015-11-08   BHEL     EQ      194.40  194.00  196.80  184.10  192.00  191.45   \n",
       "...           ...    ...         ...     ...     ...     ...     ...     ...   \n",
       "2021-02-21   BHEL     EQ       43.00   42.75   43.25   39.60   40.50   40.40   \n",
       "2021-02-28   BHEL     EQ       47.15   46.00   48.80   45.35   47.30   47.60   \n",
       "2021-03-07   BHEL     EQ       54.25   54.75   55.90   50.35   52.75   52.45   \n",
       "2021-03-14   BHEL     EQ       54.80   55.10   56.35   52.55   53.25   53.40   \n",
       "2021-03-21   BHEL     EQ       52.10   51.70   52.50   49.15   52.05   52.00   \n",
       "\n",
       "              VWAP     Volume      Turnover  Trades  Deliverable Volume  \\\n",
       "Date                                                                      \n",
       "2015-10-11  203.60    3618968  7.368300e+13   29968             1127909   \n",
       "2015-10-18  212.41    3025481  6.426394e+13   28436              875971   \n",
       "2015-10-25  209.79    2615813  5.487601e+13   22998             1189004   \n",
       "2015-11-01  200.61    4121752  8.268689e+13   42462             1333766   \n",
       "2015-11-08  190.65    9932336  1.893553e+14   91045             1442031   \n",
       "...            ...        ...           ...     ...                 ...   \n",
       "2021-02-21   41.49   74472617  3.089703e+14  102992            26675950   \n",
       "2021-02-28   47.52  206095365  9.792957e+14  257259            35246610   \n",
       "2021-03-07   53.29  112585811  5.999726e+14  170332            29622067   \n",
       "2021-03-14   54.29  126521758  6.869323e+14  156466            19457996   \n",
       "2021-03-21   51.08  108069373  5.519952e+14  142753            14162056   \n",
       "\n",
       "            %Deliverble  \n",
       "Date                     \n",
       "2015-10-11       0.3117  \n",
       "2015-10-18       0.2895  \n",
       "2015-10-25       0.4545  \n",
       "2015-11-01       0.3236  \n",
       "2015-11-08       0.1452  \n",
       "...                 ...  \n",
       "2021-02-21       0.3582  \n",
       "2021-02-28       0.1710  \n",
       "2021-03-07       0.2631  \n",
       "2021-03-14       0.1538  \n",
       "2021-03-21       0.1310  \n",
       "\n",
       "[285 rows x 14 columns]"
      ],
      "text/html": "<div>\n<style scoped>\n    .dataframe tbody tr th:only-of-type {\n        vertical-align: middle;\n    }\n\n    .dataframe tbody tr th {\n        vertical-align: top;\n    }\n\n    .dataframe thead th {\n        text-align: right;\n    }\n</style>\n<table border=\"1\" class=\"dataframe\">\n  <thead>\n    <tr style=\"text-align: right;\">\n      <th></th>\n      <th>Symbol</th>\n      <th>Series</th>\n      <th>Prev Close</th>\n      <th>Open</th>\n      <th>High</th>\n      <th>Low</th>\n      <th>Last</th>\n      <th>Price</th>\n      <th>VWAP</th>\n      <th>Volume</th>\n      <th>Turnover</th>\n      <th>Trades</th>\n      <th>Deliverable Volume</th>\n      <th>%Deliverble</th>\n    </tr>\n    <tr>\n      <th>Date</th>\n      <th></th>\n      <th></th>\n      <th></th>\n      <th></th>\n      <th></th>\n      <th></th>\n      <th></th>\n      <th></th>\n      <th></th>\n      <th></th>\n      <th></th>\n      <th></th>\n      <th></th>\n      <th></th>\n    </tr>\n  </thead>\n  <tbody>\n    <tr>\n      <th>2015-10-11</th>\n      <td>BHEL</td>\n      <td>EQ</td>\n      <td>203.80</td>\n      <td>206.00</td>\n      <td>206.50</td>\n      <td>201.20</td>\n      <td>201.60</td>\n      <td>201.90</td>\n      <td>203.60</td>\n      <td>3618968</td>\n      <td>7.368300e+13</td>\n      <td>29968</td>\n      <td>1127909</td>\n      <td>0.3117</td>\n    </tr>\n    <tr>\n      <th>2015-10-18</th>\n      <td>BHEL</td>\n      <td>EQ</td>\n      <td>211.80</td>\n      <td>212.90</td>\n      <td>214.00</td>\n      <td>209.80</td>\n      <td>213.65</td>\n      <td>213.50</td>\n      <td>212.41</td>\n      <td>3025481</td>\n      <td>6.426394e+13</td>\n      <td>28436</td>\n      <td>875971</td>\n      <td>0.2895</td>\n    </tr>\n    <tr>\n      <th>2015-10-25</th>\n      <td>BHEL</td>\n      <td>EQ</td>\n      <td>208.45</td>\n      <td>211.00</td>\n      <td>211.65</td>\n      <td>208.20</td>\n      <td>209.50</td>\n      <td>209.95</td>\n      <td>209.79</td>\n      <td>2615813</td>\n      <td>5.487601e+13</td>\n      <td>22998</td>\n      <td>1189004</td>\n      <td>0.4545</td>\n    </tr>\n    <tr>\n      <th>2015-11-01</th>\n      <td>BHEL</td>\n      <td>EQ</td>\n      <td>203.25</td>\n      <td>203.50</td>\n      <td>204.40</td>\n      <td>197.80</td>\n      <td>198.00</td>\n      <td>198.85</td>\n      <td>200.61</td>\n      <td>4121752</td>\n      <td>8.268689e+13</td>\n      <td>42462</td>\n      <td>1333766</td>\n      <td>0.3236</td>\n    </tr>\n    <tr>\n      <th>2015-11-08</th>\n      <td>BHEL</td>\n      <td>EQ</td>\n      <td>194.40</td>\n      <td>194.00</td>\n      <td>196.80</td>\n      <td>184.10</td>\n      <td>192.00</td>\n      <td>191.45</td>\n      <td>190.65</td>\n      <td>9932336</td>\n      <td>1.893553e+14</td>\n      <td>91045</td>\n      <td>1442031</td>\n      <td>0.1452</td>\n    </tr>\n    <tr>\n      <th>...</th>\n      <td>...</td>\n      <td>...</td>\n      <td>...</td>\n      <td>...</td>\n      <td>...</td>\n      <td>...</td>\n      <td>...</td>\n      <td>...</td>\n      <td>...</td>\n      <td>...</td>\n      <td>...</td>\n      <td>...</td>\n      <td>...</td>\n      <td>...</td>\n    </tr>\n    <tr>\n      <th>2021-02-21</th>\n      <td>BHEL</td>\n      <td>EQ</td>\n      <td>43.00</td>\n      <td>42.75</td>\n      <td>43.25</td>\n      <td>39.60</td>\n      <td>40.50</td>\n      <td>40.40</td>\n      <td>41.49</td>\n      <td>74472617</td>\n      <td>3.089703e+14</td>\n      <td>102992</td>\n      <td>26675950</td>\n      <td>0.3582</td>\n    </tr>\n    <tr>\n      <th>2021-02-28</th>\n      <td>BHEL</td>\n      <td>EQ</td>\n      <td>47.15</td>\n      <td>46.00</td>\n      <td>48.80</td>\n      <td>45.35</td>\n      <td>47.30</td>\n      <td>47.60</td>\n      <td>47.52</td>\n      <td>206095365</td>\n      <td>9.792957e+14</td>\n      <td>257259</td>\n      <td>35246610</td>\n      <td>0.1710</td>\n    </tr>\n    <tr>\n      <th>2021-03-07</th>\n      <td>BHEL</td>\n      <td>EQ</td>\n      <td>54.25</td>\n      <td>54.75</td>\n      <td>55.90</td>\n      <td>50.35</td>\n      <td>52.75</td>\n      <td>52.45</td>\n      <td>53.29</td>\n      <td>112585811</td>\n      <td>5.999726e+14</td>\n      <td>170332</td>\n      <td>29622067</td>\n      <td>0.2631</td>\n    </tr>\n    <tr>\n      <th>2021-03-14</th>\n      <td>BHEL</td>\n      <td>EQ</td>\n      <td>54.80</td>\n      <td>55.10</td>\n      <td>56.35</td>\n      <td>52.55</td>\n      <td>53.25</td>\n      <td>53.40</td>\n      <td>54.29</td>\n      <td>126521758</td>\n      <td>6.869323e+14</td>\n      <td>156466</td>\n      <td>19457996</td>\n      <td>0.1538</td>\n    </tr>\n    <tr>\n      <th>2021-03-21</th>\n      <td>BHEL</td>\n      <td>EQ</td>\n      <td>52.10</td>\n      <td>51.70</td>\n      <td>52.50</td>\n      <td>49.15</td>\n      <td>52.05</td>\n      <td>52.00</td>\n      <td>51.08</td>\n      <td>108069373</td>\n      <td>5.519952e+14</td>\n      <td>142753</td>\n      <td>14162056</td>\n      <td>0.1310</td>\n    </tr>\n  </tbody>\n</table>\n<p>285 rows × 14 columns</p>\n</div>"
     },
     "metadata": {},
     "execution_count": 5
    }
   ],
   "source": [
    "df"
   ]
  },
  {
   "cell_type": "code",
   "execution_count": 1,
   "metadata": {},
   "outputs": [
    {
     "output_type": "error",
     "ename": "ModuleNotFoundError",
     "evalue": "No module named 'cudf'",
     "traceback": [
      "\u001b[1;31m---------------------------------------------------------------------------\u001b[0m",
      "\u001b[1;31mModuleNotFoundError\u001b[0m                       Traceback (most recent call last)",
      "\u001b[1;32m<ipython-input-1-e13365c50bc4>\u001b[0m in \u001b[0;36m<module>\u001b[1;34m\u001b[0m\n\u001b[1;32m----> 1\u001b[1;33m \u001b[1;32mimport\u001b[0m \u001b[0mcudf\u001b[0m\u001b[1;33m\u001b[0m\u001b[1;33m\u001b[0m\u001b[0m\n\u001b[0m",
      "\u001b[1;31mModuleNotFoundError\u001b[0m: No module named 'cudf'"
     ]
    }
   ],
   "source": []
  },
  {
   "cell_type": "code",
   "execution_count": null,
   "metadata": {},
   "outputs": [],
   "source": []
  }
 ],
 "metadata": {
  "kernelspec": {
   "name": "python3",
   "display_name": "Python 3.9.4 64-bit"
  },
  "language_info": {
   "codemirror_mode": {
    "name": "ipython",
    "version": 3
   },
   "file_extension": ".py",
   "mimetype": "text/x-python",
   "name": "python",
   "nbconvert_exporter": "python",
   "pygments_lexer": "ipython3",
   "version": "3.9.4"
  },
  "interpreter": {
   "hash": "427088ba4fc8e4ed47a62b7c8ffefb13c66fa7b319e29f79364d8582b24a7383"
  }
 },
 "nbformat": 4,
 "nbformat_minor": 2
}